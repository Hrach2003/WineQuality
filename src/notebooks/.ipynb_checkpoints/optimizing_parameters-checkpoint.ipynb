{
 "cells": [
  {
   "cell_type": "code",
   "execution_count": 1,
   "id": "young-deputy",
   "metadata": {},
   "outputs": [],
   "source": [
    "import pandas as pd\n",
    "import numpy as np\n",
    "import seaborn as sns\n",
    "import matplotlib.pyplot as plt\n",
    "import plotly.express as px\n",
    "import warnings\n",
    "%matplotlib inline\n",
    "warnings.filterwarnings('ignore')"
   ]
  },
  {
   "cell_type": "code",
   "execution_count": 2,
   "id": "single-fiber",
   "metadata": {},
   "outputs": [],
   "source": [
    "df = pd.read_csv('../data/winequalityN.csv')\n",
    "df = df.fillna(df.mean())"
   ]
  },
  {
   "cell_type": "code",
   "execution_count": 3,
   "id": "virgin-rochester",
   "metadata": {},
   "outputs": [],
   "source": [
    "X = df.drop(columns=['type', 'quality'])\n",
    "y = df['quality']"
   ]
  },
  {
   "cell_type": "code",
   "execution_count": 4,
   "id": "greek-community",
   "metadata": {},
   "outputs": [],
   "source": [
    "from imblearn.over_sampling import SMOTE\n",
    "oversample = SMOTE(k_neighbors=4)\n",
    "# transform the dataset\n",
    "X, y = oversample.fit_resample(X, y)"
   ]
  },
  {
   "cell_type": "code",
   "execution_count": 5,
   "id": "grave-opportunity",
   "metadata": {},
   "outputs": [
    {
     "data": {
      "text/plain": [
       "3    2836\n",
       "4    2836\n",
       "5    2836\n",
       "6    2836\n",
       "7    2836\n",
       "8    2836\n",
       "9    2836\n",
       "Name: quality, dtype: int64"
      ]
     },
     "execution_count": 5,
     "metadata": {},
     "output_type": "execute_result"
    }
   ],
   "source": [
    "y.value_counts()"
   ]
  },
  {
   "cell_type": "code",
   "execution_count": 6,
   "id": "similar-tourism",
   "metadata": {},
   "outputs": [
    {
     "name": "stdout",
     "output_type": "stream",
     "text": [
      "/home/hrach2003/Projects/HTI_ML/WineQuality/src\n"
     ]
    }
   ],
   "source": [
    "cd .."
   ]
  },
  {
   "cell_type": "code",
   "execution_count": 7,
   "id": "indian-victim",
   "metadata": {},
   "outputs": [],
   "source": [
    "from utils import classify"
   ]
  },
  {
   "cell_type": "code",
   "execution_count": 8,
   "id": "accessory-integration",
   "metadata": {},
   "outputs": [
    {
     "name": "stdout",
     "output_type": "stream",
     "text": [
      "Accuracy: 88.9196675900277\n",
      "CV Score: 82.61137960541382\n",
      "              precision    recall  f1-score   support\n",
      "\n",
      "           3       1.00      0.98      0.99       586\n",
      "           4       0.97      0.91      0.94       605\n",
      "           5       0.76      0.80      0.78       542\n",
      "           6       0.65      0.74      0.69       504\n",
      "           7       0.87      0.83      0.85       591\n",
      "           8       0.98      0.95      0.96       618\n",
      "           9       1.00      1.00      1.00       525\n",
      "\n",
      "    accuracy                           0.89      3971\n",
      "   macro avg       0.89      0.89      0.89      3971\n",
      "weighted avg       0.90      0.89      0.89      3971\n",
      "\n"
     ]
    },
    {
     "data": {
      "text/plain": [
       "(88.9196675900277, 82.61137960541382)"
      ]
     },
     "execution_count": 8,
     "metadata": {},
     "output_type": "execute_result"
    }
   ],
   "source": [
    "from sklearn.ensemble import RandomForestClassifier\n",
    "rf = RandomForestClassifier()\n",
    "classify(rf, X, y)"
   ]
  },
  {
   "cell_type": "code",
   "execution_count": 9,
   "id": "revised-attachment",
   "metadata": {},
   "outputs": [
    {
     "name": "stdout",
     "output_type": "stream",
     "text": [
      "Accuracy: 89.34777134223117\n",
      "CV Score: 83.56340014221495\n",
      "              precision    recall  f1-score   support\n",
      "\n",
      "           3       1.00      0.99      1.00       580\n",
      "           4       0.98      0.92      0.95       601\n",
      "           5       0.78      0.79      0.78       561\n",
      "           6       0.64      0.75      0.69       493\n",
      "           7       0.89      0.83      0.85       602\n",
      "           8       0.97      0.96      0.97       608\n",
      "           9       1.00      1.00      1.00       526\n",
      "\n",
      "    accuracy                           0.89      3971\n",
      "   macro avg       0.89      0.89      0.89      3971\n",
      "weighted avg       0.90      0.89      0.90      3971\n",
      "\n"
     ]
    },
    {
     "data": {
      "text/plain": [
       "(89.34777134223117, 83.56340014221495)"
      ]
     },
     "execution_count": 9,
     "metadata": {},
     "output_type": "execute_result"
    }
   ],
   "source": [
    "from sklearn.ensemble import ExtraTreesClassifier\n",
    "et = ExtraTreesClassifier()\n",
    "classify(et, X, y)"
   ]
  },
  {
   "cell_type": "code",
   "execution_count": 10,
   "id": "illegal-chassis",
   "metadata": {},
   "outputs": [
    {
     "name": "stdout",
     "output_type": "stream",
     "text": [
      "{'bootstrap': [True, False],\n",
      " 'max_depth': [10, 15, 20, 25, 30, None],\n",
      " 'max_features': ['auto', 'sqrt'],\n",
      " 'min_samples_leaf': [1, 2, 4],\n",
      " 'min_samples_split': [2, 5, 10],\n",
      " 'n_estimators': [200, 400, 600, 800, 1000]}\n"
     ]
    }
   ],
   "source": [
    "from models.RandomForestClassifier import getRandomizedSearchParams, searchBestParamsRandomizedSearch, getGridSearchParams, gridSearch\n",
    "random_grid = getRandomizedSearchParams()"
   ]
  },
  {
   "cell_type": "code",
   "execution_count": 11,
   "id": "juvenile-nigeria",
   "metadata": {},
   "outputs": [],
   "source": [
    "from sklearn.model_selection import train_test_split\n",
    "x_train, x_test, y_train, y_test = train_test_split(X, y, test_size=0.2, random_state=42)"
   ]
  },
  {
   "cell_type": "code",
   "execution_count": 17,
   "id": "tracked-tobacco",
   "metadata": {},
   "outputs": [
    {
     "name": "stdout",
     "output_type": "stream",
     "text": [
      "Fitting 3 folds for each of 3 candidates, totalling 9 fits\n",
      "[CV] END bootstrap=False, max_depth=None, max_features=auto, min_samples_leaf=1, min_samples_split=2, n_estimators=80; total time=   2.5s\n",
      "[CV] END bootstrap=False, max_depth=None, max_features=auto, min_samples_leaf=1, min_samples_split=2, n_estimators=80; total time=   2.5s\n",
      "[CV] END bootstrap=False, max_depth=None, max_features=auto, min_samples_leaf=1, min_samples_split=2, n_estimators=80; total time=   2.5s\n",
      "[CV] END bootstrap=False, max_depth=None, max_features=auto, min_samples_leaf=1, min_samples_split=2, n_estimators=100; total time=   3.1s\n",
      "[CV] END bootstrap=False, max_depth=None, max_features=auto, min_samples_leaf=1, min_samples_split=2, n_estimators=100; total time=   3.1s\n",
      "[CV] END bootstrap=False, max_depth=None, max_features=auto, min_samples_leaf=1, min_samples_split=2, n_estimators=100; total time=   3.1s\n",
      "[CV] END bootstrap=False, max_depth=None, max_features=auto, min_samples_leaf=1, min_samples_split=2, n_estimators=600; total time=  18.9s\n",
      "[CV] END bootstrap=False, max_depth=None, max_features=auto, min_samples_leaf=1, min_samples_split=2, n_estimators=600; total time=  18.7s\n",
      "[CV] END bootstrap=False, max_depth=None, max_features=auto, min_samples_leaf=1, min_samples_split=2, n_estimators=600; total time=  18.8s\n"
     ]
    },
    {
     "data": {
      "text/plain": [
       "{'n_estimators': 600,\n",
       " 'min_samples_split': 2,\n",
       " 'min_samples_leaf': 1,\n",
       " 'max_features': 'auto',\n",
       " 'max_depth': None,\n",
       " 'bootstrap': False}"
      ]
     },
     "execution_count": 17,
     "metadata": {},
     "output_type": "execute_result"
    }
   ],
   "source": [
    "searchBestParamsRandomizedSearch(rf, x_train, y_train, random_grid)\n",
    "#  result\n",
    "# {\n",
    "#  'n_estimators': 600,\n",
    "#  'min_samples_split': 2,\n",
    "#  'min_samples_leaf': 1,\n",
    "#  'max_features': 'auto',\n",
    "#  'max_depth': None,\n",
    "#  'bootstrap': False\n",
    "# }"
   ]
  },
  {
   "cell_type": "code",
   "execution_count": 12,
   "id": "civilian-virtue",
   "metadata": {},
   "outputs": [
    {
     "name": "stdout",
     "output_type": "stream",
     "text": [
      "Accuracy: 89.97733568370687\n",
      "CV Score: 83.74978670931\n",
      "              precision    recall  f1-score   support\n",
      "\n",
      "           3       1.00      0.99      0.99       584\n",
      "           4       0.98      0.93      0.95       597\n",
      "           5       0.78      0.80      0.79       555\n",
      "           6       0.67      0.76      0.71       506\n",
      "           7       0.89      0.84      0.87       598\n",
      "           8       0.98      0.97      0.97       606\n",
      "           9       1.00      1.00      1.00       525\n",
      "\n",
      "    accuracy                           0.90      3971\n",
      "   macro avg       0.90      0.90      0.90      3971\n",
      "weighted avg       0.91      0.90      0.90      3971\n",
      "\n"
     ]
    },
    {
     "data": {
      "text/plain": [
       "(89.97733568370687, 83.74978670931)"
      ]
     },
     "execution_count": 12,
     "metadata": {},
     "output_type": "execute_result"
    }
   ],
   "source": [
    "best_params_rf = {\n",
    " 'n_estimators': 600,\n",
    " 'min_samples_split': 2,\n",
    " 'min_samples_leaf': 1,\n",
    " 'max_features': 'auto',\n",
    " 'max_depth': None,\n",
    " 'bootstrap': False\n",
    "}\n",
    "rf_rand = RandomForestClassifier(**best_params_rf)\n",
    "classify(rf_rand, X, y)"
   ]
  },
  {
   "cell_type": "code",
   "execution_count": 14,
   "id": "electoral-collect",
   "metadata": {},
   "outputs": [
    {
     "data": {
      "text/plain": [
       "{'n_estimators': [500, 550, 600, 650, 700],\n",
       " 'min_samples_split': [2, 3, 4],\n",
       " 'min_samples_leaf': [1],\n",
       " 'max_features': ['auto'],\n",
       " 'max_depth': [None, 5, 8],\n",
       " 'bootstrap': [False]}"
      ]
     },
     "execution_count": 14,
     "metadata": {},
     "output_type": "execute_result"
    }
   ],
   "source": [
    "grid_params = getGridSearchParams()\n",
    "grid_params"
   ]
  },
  {
   "cell_type": "code",
   "execution_count": 15,
   "id": "portuguese-profile",
   "metadata": {},
   "outputs": [
    {
     "data": {
      "text/plain": [
       "RandomForestClassifier(bootstrap=False, n_estimators=600)"
      ]
     },
     "execution_count": 15,
     "metadata": {},
     "output_type": "execute_result"
    }
   ],
   "source": [
    "gridSearch(rf, x_train, y_train, grid_params)"
   ]
  },
  {
   "cell_type": "markdown",
   "id": "passing-separation",
   "metadata": {},
   "source": [
    "## Increasing the accuracy from 88.9196675900277 to 89.97733568370687\n",
    "## by 1%"
   ]
  },
  {
   "cell_type": "code",
   "execution_count": 35,
   "id": "separate-detail",
   "metadata": {},
   "outputs": [],
   "source": [
    "best_params_et = {\n",
    "    'n_estimators': [100, 300, 500, 600, 700],\n",
    "    'min_samples_split': [1,4,7,10],\n",
    "    'min_samples_leaf': [1,2,3,5],\n",
    "    'max_features': ['auto'],\n",
    "    'max_depth': [None, 1, 2],\n",
    "    'bootstrap': [False],\n",
    "    'criterion': ['gini', 'entropy'],\n",
    "    'max_features': ['auto','sqrt','log2']\n",
    "}"
   ]
  },
  {
   "cell_type": "code",
   "execution_count": 36,
   "id": "seventh-happiness",
   "metadata": {},
   "outputs": [
    {
     "name": "stdout",
     "output_type": "stream",
     "text": [
      "Fitting 3 folds for each of 50 candidates, totalling 150 fits\n",
      "[CV] END bootstrap=False, criterion=gini, max_depth=None, max_features=log2, min_samples_leaf=1, min_samples_split=4, n_estimators=600; total time=   4.2s\n",
      "[CV] END bootstrap=False, criterion=gini, max_depth=None, max_features=log2, min_samples_leaf=1, min_samples_split=4, n_estimators=600; total time=   4.2s\n",
      "[CV] END bootstrap=False, criterion=gini, max_depth=None, max_features=log2, min_samples_leaf=1, min_samples_split=4, n_estimators=600; total time=   4.2s\n",
      "[CV] END bootstrap=False, criterion=gini, max_depth=2, max_features=sqrt, min_samples_leaf=3, min_samples_split=4, n_estimators=100; total time=   0.2s\n",
      "[CV] END bootstrap=False, criterion=gini, max_depth=2, max_features=sqrt, min_samples_leaf=3, min_samples_split=4, n_estimators=100; total time=   0.2s\n",
      "[CV] END bootstrap=False, criterion=gini, max_depth=2, max_features=sqrt, min_samples_leaf=3, min_samples_split=4, n_estimators=100; total time=   0.2s\n",
      "[CV] END bootstrap=False, criterion=gini, max_depth=2, max_features=auto, min_samples_leaf=5, min_samples_split=4, n_estimators=600; total time=   1.1s\n",
      "[CV] END bootstrap=False, criterion=gini, max_depth=2, max_features=auto, min_samples_leaf=5, min_samples_split=4, n_estimators=600; total time=   1.1s\n",
      "[CV] END bootstrap=False, criterion=gini, max_depth=2, max_features=auto, min_samples_leaf=5, min_samples_split=4, n_estimators=600; total time=   1.1s\n",
      "[CV] END bootstrap=False, criterion=gini, max_depth=None, max_features=auto, min_samples_leaf=5, min_samples_split=4, n_estimators=100; total time=   0.5s\n",
      "[CV] END bootstrap=False, criterion=gini, max_depth=None, max_features=auto, min_samples_leaf=5, min_samples_split=4, n_estimators=100; total time=   0.5s\n",
      "[CV] END bootstrap=False, criterion=gini, max_depth=None, max_features=auto, min_samples_leaf=5, min_samples_split=4, n_estimators=100; total time=   0.5s\n",
      "[CV] END bootstrap=False, criterion=gini, max_depth=2, max_features=sqrt, min_samples_leaf=5, min_samples_split=4, n_estimators=600; total time=   1.1s\n",
      "[CV] END bootstrap=False, criterion=gini, max_depth=2, max_features=sqrt, min_samples_leaf=5, min_samples_split=4, n_estimators=600; total time=   1.1s\n",
      "[CV] END bootstrap=False, criterion=gini, max_depth=2, max_features=sqrt, min_samples_leaf=5, min_samples_split=4, n_estimators=600; total time=   1.1s\n",
      "[CV] END bootstrap=False, criterion=entropy, max_depth=1, max_features=auto, min_samples_leaf=1, min_samples_split=1, n_estimators=700; total time=   0.2s\n",
      "[CV] END bootstrap=False, criterion=entropy, max_depth=1, max_features=auto, min_samples_leaf=1, min_samples_split=1, n_estimators=700; total time=   0.2s\n",
      "[CV] END bootstrap=False, criterion=entropy, max_depth=1, max_features=auto, min_samples_leaf=1, min_samples_split=1, n_estimators=700; total time=   0.2s\n",
      "[CV] END bootstrap=False, criterion=entropy, max_depth=2, max_features=log2, min_samples_leaf=2, min_samples_split=7, n_estimators=100; total time=   0.2s\n",
      "[CV] END bootstrap=False, criterion=entropy, max_depth=2, max_features=log2, min_samples_leaf=2, min_samples_split=7, n_estimators=100; total time=   0.2s\n",
      "[CV] END bootstrap=False, criterion=entropy, max_depth=2, max_features=log2, min_samples_leaf=2, min_samples_split=7, n_estimators=100; total time=   0.2s\n",
      "[CV] END bootstrap=False, criterion=entropy, max_depth=2, max_features=log2, min_samples_leaf=5, min_samples_split=1, n_estimators=500; total time=   0.1s\n",
      "[CV] END bootstrap=False, criterion=entropy, max_depth=2, max_features=log2, min_samples_leaf=5, min_samples_split=1, n_estimators=500; total time=   0.1s\n",
      "[CV] END bootstrap=False, criterion=entropy, max_depth=2, max_features=log2, min_samples_leaf=5, min_samples_split=1, n_estimators=500; total time=   0.1s\n",
      "[CV] END bootstrap=False, criterion=entropy, max_depth=1, max_features=log2, min_samples_leaf=5, min_samples_split=10, n_estimators=700; total time=   1.1s\n",
      "[CV] END bootstrap=False, criterion=entropy, max_depth=1, max_features=log2, min_samples_leaf=5, min_samples_split=10, n_estimators=700; total time=   1.1s\n",
      "[CV] END bootstrap=False, criterion=entropy, max_depth=1, max_features=log2, min_samples_leaf=5, min_samples_split=10, n_estimators=700; total time=   1.1s\n",
      "[CV] END bootstrap=False, criterion=gini, max_depth=1, max_features=auto, min_samples_leaf=1, min_samples_split=1, n_estimators=700; total time=   0.2s\n",
      "[CV] END bootstrap=False, criterion=gini, max_depth=1, max_features=auto, min_samples_leaf=1, min_samples_split=1, n_estimators=700; total time=   0.2s\n",
      "[CV] END bootstrap=False, criterion=gini, max_depth=1, max_features=auto, min_samples_leaf=1, min_samples_split=1, n_estimators=700; total time=   0.2s\n",
      "[CV] END bootstrap=False, criterion=gini, max_depth=2, max_features=sqrt, min_samples_leaf=2, min_samples_split=4, n_estimators=700; total time=   1.2s\n",
      "[CV] END bootstrap=False, criterion=gini, max_depth=2, max_features=sqrt, min_samples_leaf=2, min_samples_split=4, n_estimators=700; total time=   1.2s\n",
      "[CV] END bootstrap=False, criterion=gini, max_depth=2, max_features=sqrt, min_samples_leaf=2, min_samples_split=4, n_estimators=700; total time=   1.2s\n",
      "[CV] END bootstrap=False, criterion=gini, max_depth=None, max_features=sqrt, min_samples_leaf=2, min_samples_split=10, n_estimators=100; total time=   0.6s\n",
      "[CV] END bootstrap=False, criterion=gini, max_depth=None, max_features=sqrt, min_samples_leaf=2, min_samples_split=10, n_estimators=100; total time=   0.6s\n",
      "[CV] END bootstrap=False, criterion=gini, max_depth=None, max_features=sqrt, min_samples_leaf=2, min_samples_split=10, n_estimators=100; total time=   0.6s\n",
      "[CV] END bootstrap=False, criterion=entropy, max_depth=2, max_features=auto, min_samples_leaf=2, min_samples_split=1, n_estimators=600; total time=   0.1s\n",
      "[CV] END bootstrap=False, criterion=entropy, max_depth=2, max_features=auto, min_samples_leaf=2, min_samples_split=1, n_estimators=600; total time=   0.1s\n",
      "[CV] END bootstrap=False, criterion=entropy, max_depth=2, max_features=auto, min_samples_leaf=2, min_samples_split=1, n_estimators=600; total time=   0.1s\n",
      "[CV] END bootstrap=False, criterion=entropy, max_depth=None, max_features=log2, min_samples_leaf=5, min_samples_split=1, n_estimators=100; total time=   0.0s\n",
      "[CV] END bootstrap=False, criterion=entropy, max_depth=None, max_features=log2, min_samples_leaf=5, min_samples_split=1, n_estimators=100; total time=   0.0s\n",
      "[CV] END bootstrap=False, criterion=entropy, max_depth=None, max_features=log2, min_samples_leaf=5, min_samples_split=1, n_estimators=100; total time=   0.0s\n",
      "[CV] END bootstrap=False, criterion=gini, max_depth=None, max_features=sqrt, min_samples_leaf=5, min_samples_split=1, n_estimators=300; total time=   0.1s\n",
      "[CV] END bootstrap=False, criterion=gini, max_depth=None, max_features=sqrt, min_samples_leaf=5, min_samples_split=1, n_estimators=300; total time=   0.1s\n",
      "[CV] END bootstrap=False, criterion=gini, max_depth=None, max_features=sqrt, min_samples_leaf=5, min_samples_split=1, n_estimators=300; total time=   0.1s\n",
      "[CV] END bootstrap=False, criterion=entropy, max_depth=2, max_features=sqrt, min_samples_leaf=2, min_samples_split=4, n_estimators=100; total time=   0.2s\n",
      "[CV] END bootstrap=False, criterion=entropy, max_depth=2, max_features=sqrt, min_samples_leaf=2, min_samples_split=4, n_estimators=100; total time=   0.2s\n",
      "[CV] END bootstrap=False, criterion=entropy, max_depth=2, max_features=sqrt, min_samples_leaf=2, min_samples_split=4, n_estimators=100; total time=   0.2s\n",
      "[CV] END bootstrap=False, criterion=gini, max_depth=2, max_features=log2, min_samples_leaf=3, min_samples_split=10, n_estimators=100; total time=   0.2s\n",
      "[CV] END bootstrap=False, criterion=gini, max_depth=2, max_features=log2, min_samples_leaf=3, min_samples_split=10, n_estimators=100; total time=   0.2s\n",
      "[CV] END bootstrap=False, criterion=gini, max_depth=2, max_features=log2, min_samples_leaf=3, min_samples_split=10, n_estimators=100; total time=   0.2s\n",
      "[CV] END bootstrap=False, criterion=entropy, max_depth=None, max_features=auto, min_samples_leaf=2, min_samples_split=10, n_estimators=300; total time=   1.8s\n",
      "[CV] END bootstrap=False, criterion=entropy, max_depth=None, max_features=auto, min_samples_leaf=2, min_samples_split=10, n_estimators=300; total time=   1.8s\n"
     ]
    },
    {
     "name": "stdout",
     "output_type": "stream",
     "text": [
      "[CV] END bootstrap=False, criterion=entropy, max_depth=None, max_features=auto, min_samples_leaf=2, min_samples_split=10, n_estimators=300; total time=   1.8s\n",
      "[CV] END bootstrap=False, criterion=gini, max_depth=1, max_features=auto, min_samples_leaf=5, min_samples_split=4, n_estimators=300; total time=   0.5s\n",
      "[CV] END bootstrap=False, criterion=gini, max_depth=1, max_features=auto, min_samples_leaf=5, min_samples_split=4, n_estimators=300; total time=   0.5s\n",
      "[CV] END bootstrap=False, criterion=gini, max_depth=1, max_features=auto, min_samples_leaf=5, min_samples_split=4, n_estimators=300; total time=   0.5s\n",
      "[CV] END bootstrap=False, criterion=gini, max_depth=1, max_features=sqrt, min_samples_leaf=2, min_samples_split=7, n_estimators=100; total time=   0.2s\n",
      "[CV] END bootstrap=False, criterion=gini, max_depth=1, max_features=sqrt, min_samples_leaf=2, min_samples_split=7, n_estimators=100; total time=   0.2s\n",
      "[CV] END bootstrap=False, criterion=gini, max_depth=1, max_features=sqrt, min_samples_leaf=2, min_samples_split=7, n_estimators=100; total time=   0.2s\n",
      "[CV] END bootstrap=False, criterion=entropy, max_depth=1, max_features=log2, min_samples_leaf=5, min_samples_split=7, n_estimators=500; total time=   0.8s\n",
      "[CV] END bootstrap=False, criterion=entropy, max_depth=1, max_features=log2, min_samples_leaf=5, min_samples_split=7, n_estimators=500; total time=   0.8s\n",
      "[CV] END bootstrap=False, criterion=entropy, max_depth=1, max_features=log2, min_samples_leaf=5, min_samples_split=7, n_estimators=500; total time=   0.8s\n",
      "[CV] END bootstrap=False, criterion=entropy, max_depth=1, max_features=auto, min_samples_leaf=5, min_samples_split=1, n_estimators=600; total time=   0.1s\n",
      "[CV] END bootstrap=False, criterion=entropy, max_depth=1, max_features=auto, min_samples_leaf=5, min_samples_split=1, n_estimators=600; total time=   0.1s\n",
      "[CV] END bootstrap=False, criterion=entropy, max_depth=1, max_features=auto, min_samples_leaf=5, min_samples_split=1, n_estimators=600; total time=   0.1s\n",
      "[CV] END bootstrap=False, criterion=entropy, max_depth=1, max_features=log2, min_samples_leaf=2, min_samples_split=1, n_estimators=100; total time=   0.0s\n",
      "[CV] END bootstrap=False, criterion=entropy, max_depth=1, max_features=log2, min_samples_leaf=2, min_samples_split=1, n_estimators=100; total time=   0.0s\n",
      "[CV] END bootstrap=False, criterion=entropy, max_depth=1, max_features=log2, min_samples_leaf=2, min_samples_split=1, n_estimators=100; total time=   0.0s\n",
      "[CV] END bootstrap=False, criterion=gini, max_depth=2, max_features=sqrt, min_samples_leaf=5, min_samples_split=1, n_estimators=100; total time=   0.0s\n",
      "[CV] END bootstrap=False, criterion=gini, max_depth=2, max_features=sqrt, min_samples_leaf=5, min_samples_split=1, n_estimators=100; total time=   0.0s\n",
      "[CV] END bootstrap=False, criterion=gini, max_depth=2, max_features=sqrt, min_samples_leaf=5, min_samples_split=1, n_estimators=100; total time=   0.0s\n",
      "[CV] END bootstrap=False, criterion=entropy, max_depth=None, max_features=sqrt, min_samples_leaf=1, min_samples_split=10, n_estimators=700; total time=   4.3s\n",
      "[CV] END bootstrap=False, criterion=entropy, max_depth=None, max_features=sqrt, min_samples_leaf=1, min_samples_split=10, n_estimators=700; total time=   4.3s\n",
      "[CV] END bootstrap=False, criterion=entropy, max_depth=None, max_features=sqrt, min_samples_leaf=1, min_samples_split=10, n_estimators=700; total time=   4.4s\n",
      "[CV] END bootstrap=False, criterion=entropy, max_depth=None, max_features=auto, min_samples_leaf=2, min_samples_split=4, n_estimators=300; total time=   2.1s\n",
      "[CV] END bootstrap=False, criterion=entropy, max_depth=None, max_features=auto, min_samples_leaf=2, min_samples_split=4, n_estimators=300; total time=   2.1s\n",
      "[CV] END bootstrap=False, criterion=entropy, max_depth=None, max_features=auto, min_samples_leaf=2, min_samples_split=4, n_estimators=300; total time=   2.1s\n",
      "[CV] END bootstrap=False, criterion=gini, max_depth=2, max_features=log2, min_samples_leaf=1, min_samples_split=7, n_estimators=700; total time=   1.2s\n",
      "[CV] END bootstrap=False, criterion=gini, max_depth=2, max_features=log2, min_samples_leaf=1, min_samples_split=7, n_estimators=700; total time=   1.2s\n",
      "[CV] END bootstrap=False, criterion=gini, max_depth=2, max_features=log2, min_samples_leaf=1, min_samples_split=7, n_estimators=700; total time=   1.3s\n",
      "[CV] END bootstrap=False, criterion=gini, max_depth=1, max_features=log2, min_samples_leaf=1, min_samples_split=10, n_estimators=100; total time=   0.2s\n",
      "[CV] END bootstrap=False, criterion=gini, max_depth=1, max_features=log2, min_samples_leaf=1, min_samples_split=10, n_estimators=100; total time=   0.2s\n",
      "[CV] END bootstrap=False, criterion=gini, max_depth=1, max_features=log2, min_samples_leaf=1, min_samples_split=10, n_estimators=100; total time=   0.2s\n",
      "[CV] END bootstrap=False, criterion=gini, max_depth=None, max_features=auto, min_samples_leaf=3, min_samples_split=7, n_estimators=300; total time=   1.7s\n",
      "[CV] END bootstrap=False, criterion=gini, max_depth=None, max_features=auto, min_samples_leaf=3, min_samples_split=7, n_estimators=300; total time=   1.7s\n",
      "[CV] END bootstrap=False, criterion=gini, max_depth=None, max_features=auto, min_samples_leaf=3, min_samples_split=7, n_estimators=300; total time=   1.7s\n",
      "[CV] END bootstrap=False, criterion=gini, max_depth=1, max_features=auto, min_samples_leaf=2, min_samples_split=7, n_estimators=100; total time=   0.2s\n",
      "[CV] END bootstrap=False, criterion=gini, max_depth=1, max_features=auto, min_samples_leaf=2, min_samples_split=7, n_estimators=100; total time=   0.2s\n",
      "[CV] END bootstrap=False, criterion=gini, max_depth=1, max_features=auto, min_samples_leaf=2, min_samples_split=7, n_estimators=100; total time=   0.2s\n",
      "[CV] END bootstrap=False, criterion=entropy, max_depth=None, max_features=log2, min_samples_leaf=1, min_samples_split=7, n_estimators=700; total time=   4.8s\n",
      "[CV] END bootstrap=False, criterion=entropy, max_depth=None, max_features=log2, min_samples_leaf=1, min_samples_split=7, n_estimators=700; total time=   4.8s\n",
      "[CV] END bootstrap=False, criterion=entropy, max_depth=None, max_features=log2, min_samples_leaf=1, min_samples_split=7, n_estimators=700; total time=   4.8s\n",
      "[CV] END bootstrap=False, criterion=entropy, max_depth=1, max_features=sqrt, min_samples_leaf=5, min_samples_split=7, n_estimators=600; total time=   1.0s\n",
      "[CV] END bootstrap=False, criterion=entropy, max_depth=1, max_features=sqrt, min_samples_leaf=5, min_samples_split=7, n_estimators=600; total time=   1.0s\n",
      "[CV] END bootstrap=False, criterion=entropy, max_depth=1, max_features=sqrt, min_samples_leaf=5, min_samples_split=7, n_estimators=600; total time=   1.0s\n",
      "[CV] END bootstrap=False, criterion=entropy, max_depth=1, max_features=auto, min_samples_leaf=1, min_samples_split=10, n_estimators=700; total time=   1.1s\n",
      "[CV] END bootstrap=False, criterion=entropy, max_depth=1, max_features=auto, min_samples_leaf=1, min_samples_split=10, n_estimators=700; total time=   1.1s\n",
      "[CV] END bootstrap=False, criterion=entropy, max_depth=1, max_features=auto, min_samples_leaf=1, min_samples_split=10, n_estimators=700; total time=   1.1s\n",
      "[CV] END bootstrap=False, criterion=gini, max_depth=2, max_features=sqrt, min_samples_leaf=5, min_samples_split=10, n_estimators=300; total time=   0.5s\n",
      "[CV] END bootstrap=False, criterion=gini, max_depth=2, max_features=sqrt, min_samples_leaf=5, min_samples_split=10, n_estimators=300; total time=   0.5s\n",
      "[CV] END bootstrap=False, criterion=gini, max_depth=2, max_features=sqrt, min_samples_leaf=5, min_samples_split=10, n_estimators=300; total time=   0.5s\n",
      "[CV] END bootstrap=False, criterion=gini, max_depth=2, max_features=auto, min_samples_leaf=3, min_samples_split=10, n_estimators=100; total time=   0.2s\n",
      "[CV] END bootstrap=False, criterion=gini, max_depth=2, max_features=auto, min_samples_leaf=3, min_samples_split=10, n_estimators=100; total time=   0.2s\n",
      "[CV] END bootstrap=False, criterion=gini, max_depth=2, max_features=auto, min_samples_leaf=3, min_samples_split=10, n_estimators=100; total time=   0.2s\n",
      "[CV] END bootstrap=False, criterion=entropy, max_depth=None, max_features=sqrt, min_samples_leaf=3, min_samples_split=4, n_estimators=500; total time=   3.0s\n",
      "[CV] END bootstrap=False, criterion=entropy, max_depth=None, max_features=sqrt, min_samples_leaf=3, min_samples_split=4, n_estimators=500; total time=   3.0s\n"
     ]
    },
    {
     "name": "stdout",
     "output_type": "stream",
     "text": [
      "[CV] END bootstrap=False, criterion=entropy, max_depth=None, max_features=sqrt, min_samples_leaf=3, min_samples_split=4, n_estimators=500; total time=   3.0s\n",
      "[CV] END bootstrap=False, criterion=gini, max_depth=None, max_features=auto, min_samples_leaf=3, min_samples_split=4, n_estimators=700; total time=   3.9s\n",
      "[CV] END bootstrap=False, criterion=gini, max_depth=None, max_features=auto, min_samples_leaf=3, min_samples_split=4, n_estimators=700; total time=   4.0s\n",
      "[CV] END bootstrap=False, criterion=gini, max_depth=None, max_features=auto, min_samples_leaf=3, min_samples_split=4, n_estimators=700; total time=   4.0s\n",
      "[CV] END bootstrap=False, criterion=gini, max_depth=1, max_features=auto, min_samples_leaf=2, min_samples_split=7, n_estimators=700; total time=   1.1s\n",
      "[CV] END bootstrap=False, criterion=gini, max_depth=1, max_features=auto, min_samples_leaf=2, min_samples_split=7, n_estimators=700; total time=   1.1s\n",
      "[CV] END bootstrap=False, criterion=gini, max_depth=1, max_features=auto, min_samples_leaf=2, min_samples_split=7, n_estimators=700; total time=   1.1s\n",
      "[CV] END bootstrap=False, criterion=entropy, max_depth=1, max_features=log2, min_samples_leaf=2, min_samples_split=10, n_estimators=700; total time=   1.1s\n",
      "[CV] END bootstrap=False, criterion=entropy, max_depth=1, max_features=log2, min_samples_leaf=2, min_samples_split=10, n_estimators=700; total time=   1.1s\n",
      "[CV] END bootstrap=False, criterion=entropy, max_depth=1, max_features=log2, min_samples_leaf=2, min_samples_split=10, n_estimators=700; total time=   1.1s\n",
      "[CV] END bootstrap=False, criterion=gini, max_depth=None, max_features=auto, min_samples_leaf=2, min_samples_split=4, n_estimators=700; total time=   4.6s\n",
      "[CV] END bootstrap=False, criterion=gini, max_depth=None, max_features=auto, min_samples_leaf=2, min_samples_split=4, n_estimators=700; total time=   4.5s\n",
      "[CV] END bootstrap=False, criterion=gini, max_depth=None, max_features=auto, min_samples_leaf=2, min_samples_split=4, n_estimators=700; total time=   4.5s\n",
      "[CV] END bootstrap=False, criterion=gini, max_depth=1, max_features=auto, min_samples_leaf=5, min_samples_split=7, n_estimators=100; total time=   0.2s\n",
      "[CV] END bootstrap=False, criterion=gini, max_depth=1, max_features=auto, min_samples_leaf=5, min_samples_split=7, n_estimators=100; total time=   0.2s\n",
      "[CV] END bootstrap=False, criterion=gini, max_depth=1, max_features=auto, min_samples_leaf=5, min_samples_split=7, n_estimators=100; total time=   0.2s\n",
      "[CV] END bootstrap=False, criterion=entropy, max_depth=1, max_features=sqrt, min_samples_leaf=3, min_samples_split=1, n_estimators=100; total time=   0.0s\n",
      "[CV] END bootstrap=False, criterion=entropy, max_depth=1, max_features=sqrt, min_samples_leaf=3, min_samples_split=1, n_estimators=100; total time=   0.0s\n",
      "[CV] END bootstrap=False, criterion=entropy, max_depth=1, max_features=sqrt, min_samples_leaf=3, min_samples_split=1, n_estimators=100; total time=   0.0s\n",
      "[CV] END bootstrap=False, criterion=gini, max_depth=1, max_features=log2, min_samples_leaf=2, min_samples_split=7, n_estimators=100; total time=   0.2s\n",
      "[CV] END bootstrap=False, criterion=gini, max_depth=1, max_features=log2, min_samples_leaf=2, min_samples_split=7, n_estimators=100; total time=   0.2s\n",
      "[CV] END bootstrap=False, criterion=gini, max_depth=1, max_features=log2, min_samples_leaf=2, min_samples_split=7, n_estimators=100; total time=   0.2s\n",
      "[CV] END bootstrap=False, criterion=gini, max_depth=1, max_features=auto, min_samples_leaf=2, min_samples_split=10, n_estimators=100; total time=   0.2s\n",
      "[CV] END bootstrap=False, criterion=gini, max_depth=1, max_features=auto, min_samples_leaf=2, min_samples_split=10, n_estimators=100; total time=   0.2s\n",
      "[CV] END bootstrap=False, criterion=gini, max_depth=1, max_features=auto, min_samples_leaf=2, min_samples_split=10, n_estimators=100; total time=   0.2s\n",
      "[CV] END bootstrap=False, criterion=entropy, max_depth=None, max_features=auto, min_samples_leaf=3, min_samples_split=7, n_estimators=500; total time=   3.0s\n",
      "[CV] END bootstrap=False, criterion=entropy, max_depth=None, max_features=auto, min_samples_leaf=3, min_samples_split=7, n_estimators=500; total time=   3.0s\n",
      "[CV] END bootstrap=False, criterion=entropy, max_depth=None, max_features=auto, min_samples_leaf=3, min_samples_split=7, n_estimators=500; total time=   3.0s\n",
      "[CV] END bootstrap=False, criterion=entropy, max_depth=2, max_features=sqrt, min_samples_leaf=3, min_samples_split=4, n_estimators=700; total time=   1.2s\n",
      "[CV] END bootstrap=False, criterion=entropy, max_depth=2, max_features=sqrt, min_samples_leaf=3, min_samples_split=4, n_estimators=700; total time=   1.2s\n",
      "[CV] END bootstrap=False, criterion=entropy, max_depth=2, max_features=sqrt, min_samples_leaf=3, min_samples_split=4, n_estimators=700; total time=   1.3s\n",
      "[CV] END bootstrap=False, criterion=gini, max_depth=None, max_features=auto, min_samples_leaf=5, min_samples_split=4, n_estimators=500; total time=   2.5s\n",
      "[CV] END bootstrap=False, criterion=gini, max_depth=None, max_features=auto, min_samples_leaf=5, min_samples_split=4, n_estimators=500; total time=   2.4s\n",
      "[CV] END bootstrap=False, criterion=gini, max_depth=None, max_features=auto, min_samples_leaf=5, min_samples_split=4, n_estimators=500; total time=   2.4s\n",
      "[CV] END bootstrap=False, criterion=gini, max_depth=1, max_features=auto, min_samples_leaf=1, min_samples_split=1, n_estimators=100; total time=   0.0s\n",
      "[CV] END bootstrap=False, criterion=gini, max_depth=1, max_features=auto, min_samples_leaf=1, min_samples_split=1, n_estimators=100; total time=   0.0s\n",
      "[CV] END bootstrap=False, criterion=gini, max_depth=1, max_features=auto, min_samples_leaf=1, min_samples_split=1, n_estimators=100; total time=   0.0s\n",
      "[CV] END bootstrap=False, criterion=entropy, max_depth=2, max_features=log2, min_samples_leaf=3, min_samples_split=10, n_estimators=300; total time=   0.5s\n",
      "[CV] END bootstrap=False, criterion=entropy, max_depth=2, max_features=log2, min_samples_leaf=3, min_samples_split=10, n_estimators=300; total time=   0.5s\n",
      "[CV] END bootstrap=False, criterion=entropy, max_depth=2, max_features=log2, min_samples_leaf=3, min_samples_split=10, n_estimators=300; total time=   0.5s\n",
      "[CV] END bootstrap=False, criterion=gini, max_depth=1, max_features=sqrt, min_samples_leaf=1, min_samples_split=1, n_estimators=700; total time=   0.2s\n",
      "[CV] END bootstrap=False, criterion=gini, max_depth=1, max_features=sqrt, min_samples_leaf=1, min_samples_split=1, n_estimators=700; total time=   0.2s\n",
      "[CV] END bootstrap=False, criterion=gini, max_depth=1, max_features=sqrt, min_samples_leaf=1, min_samples_split=1, n_estimators=700; total time=   0.2s\n"
     ]
    },
    {
     "data": {
      "text/plain": [
       "{'n_estimators': 600,\n",
       " 'min_samples_split': 4,\n",
       " 'min_samples_leaf': 1,\n",
       " 'max_features': 'log2',\n",
       " 'max_depth': None,\n",
       " 'criterion': 'gini',\n",
       " 'bootstrap': False}"
      ]
     },
     "execution_count": 36,
     "metadata": {},
     "output_type": "execute_result"
    }
   ],
   "source": [
    "res = searchBestParamsRandomizedSearch(et, x_train, y_train, best_params_et)\n",
    "res"
   ]
  },
  {
   "cell_type": "code",
   "execution_count": 39,
   "id": "placed-brook",
   "metadata": {},
   "outputs": [
    {
     "ename": "KeyboardInterrupt",
     "evalue": "",
     "output_type": "error",
     "traceback": [
      "\u001b[0;31m---------------------------------------------------------------------------\u001b[0m",
      "\u001b[0;31mKeyboardInterrupt\u001b[0m                         Traceback (most recent call last)",
      "\u001b[0;32m<ipython-input-39-309d534837f1>\u001b[0m in \u001b[0;36m<module>\u001b[0;34m\u001b[0m\n\u001b[1;32m      8\u001b[0m     \u001b[0;34m'bootstrap'\u001b[0m\u001b[0;34m:\u001b[0m \u001b[0;34m[\u001b[0m\u001b[0;32mFalse\u001b[0m\u001b[0;34m]\u001b[0m\u001b[0;34m\u001b[0m\u001b[0;34m\u001b[0m\u001b[0m\n\u001b[1;32m      9\u001b[0m }\n\u001b[0;32m---> 10\u001b[0;31m \u001b[0mres\u001b[0m \u001b[0;34m=\u001b[0m \u001b[0mgridSearch\u001b[0m\u001b[0;34m(\u001b[0m\u001b[0mrf\u001b[0m\u001b[0;34m,\u001b[0m \u001b[0mx_train\u001b[0m\u001b[0;34m,\u001b[0m \u001b[0my_train\u001b[0m\u001b[0;34m,\u001b[0m \u001b[0mgrid_params\u001b[0m\u001b[0;34m)\u001b[0m\u001b[0;34m\u001b[0m\u001b[0;34m\u001b[0m\u001b[0m\n\u001b[0m\u001b[1;32m     11\u001b[0m \u001b[0mres\u001b[0m\u001b[0;34m\u001b[0m\u001b[0;34m\u001b[0m\u001b[0m\n",
      "\u001b[0;32m~/Projects/HTI_ML/WineQuality/src/models/RandomForestClassifier.py\u001b[0m in \u001b[0;36mgridSearch\u001b[0;34m(rf_model, X, y, param_grid)\u001b[0m\n\u001b[1;32m     57\u001b[0m     grid_search = GridSearchCV(estimator=rf_model, param_grid=param_grid,\n\u001b[1;32m     58\u001b[0m                                cv=3)\n\u001b[0;32m---> 59\u001b[0;31m     \u001b[0mgrid_search\u001b[0m\u001b[0;34m.\u001b[0m\u001b[0mfit\u001b[0m\u001b[0;34m(\u001b[0m\u001b[0mX\u001b[0m\u001b[0;34m,\u001b[0m \u001b[0my\u001b[0m\u001b[0;34m)\u001b[0m\u001b[0;34m\u001b[0m\u001b[0;34m\u001b[0m\u001b[0m\n\u001b[0m\u001b[1;32m     60\u001b[0m     \u001b[0;32mreturn\u001b[0m \u001b[0mgrid_search\u001b[0m\u001b[0;34m.\u001b[0m\u001b[0mbest_estimator_\u001b[0m\u001b[0;34m\u001b[0m\u001b[0;34m\u001b[0m\u001b[0m\n",
      "\u001b[0;32m~/Projects/HTI_ML/WineQuality/venv/lib/python3.9/site-packages/sklearn/utils/validation.py\u001b[0m in \u001b[0;36minner_f\u001b[0;34m(*args, **kwargs)\u001b[0m\n\u001b[1;32m     61\u001b[0m             \u001b[0mextra_args\u001b[0m \u001b[0;34m=\u001b[0m \u001b[0mlen\u001b[0m\u001b[0;34m(\u001b[0m\u001b[0margs\u001b[0m\u001b[0;34m)\u001b[0m \u001b[0;34m-\u001b[0m \u001b[0mlen\u001b[0m\u001b[0;34m(\u001b[0m\u001b[0mall_args\u001b[0m\u001b[0;34m)\u001b[0m\u001b[0;34m\u001b[0m\u001b[0;34m\u001b[0m\u001b[0m\n\u001b[1;32m     62\u001b[0m             \u001b[0;32mif\u001b[0m \u001b[0mextra_args\u001b[0m \u001b[0;34m<=\u001b[0m \u001b[0;36m0\u001b[0m\u001b[0;34m:\u001b[0m\u001b[0;34m\u001b[0m\u001b[0;34m\u001b[0m\u001b[0m\n\u001b[0;32m---> 63\u001b[0;31m                 \u001b[0;32mreturn\u001b[0m \u001b[0mf\u001b[0m\u001b[0;34m(\u001b[0m\u001b[0;34m*\u001b[0m\u001b[0margs\u001b[0m\u001b[0;34m,\u001b[0m \u001b[0;34m**\u001b[0m\u001b[0mkwargs\u001b[0m\u001b[0;34m)\u001b[0m\u001b[0;34m\u001b[0m\u001b[0;34m\u001b[0m\u001b[0m\n\u001b[0m\u001b[1;32m     64\u001b[0m \u001b[0;34m\u001b[0m\u001b[0m\n\u001b[1;32m     65\u001b[0m             \u001b[0;31m# extra_args > 0\u001b[0m\u001b[0;34m\u001b[0m\u001b[0;34m\u001b[0m\u001b[0;34m\u001b[0m\u001b[0m\n",
      "\u001b[0;32m~/Projects/HTI_ML/WineQuality/venv/lib/python3.9/site-packages/sklearn/model_selection/_search.py\u001b[0m in \u001b[0;36mfit\u001b[0;34m(self, X, y, groups, **fit_params)\u001b[0m\n\u001b[1;32m    839\u001b[0m                 \u001b[0;32mreturn\u001b[0m \u001b[0mresults\u001b[0m\u001b[0;34m\u001b[0m\u001b[0;34m\u001b[0m\u001b[0m\n\u001b[1;32m    840\u001b[0m \u001b[0;34m\u001b[0m\u001b[0m\n\u001b[0;32m--> 841\u001b[0;31m             \u001b[0mself\u001b[0m\u001b[0;34m.\u001b[0m\u001b[0m_run_search\u001b[0m\u001b[0;34m(\u001b[0m\u001b[0mevaluate_candidates\u001b[0m\u001b[0;34m)\u001b[0m\u001b[0;34m\u001b[0m\u001b[0;34m\u001b[0m\u001b[0m\n\u001b[0m\u001b[1;32m    842\u001b[0m \u001b[0;34m\u001b[0m\u001b[0m\n\u001b[1;32m    843\u001b[0m             \u001b[0;31m# multimetric is determined here because in the case of a callable\u001b[0m\u001b[0;34m\u001b[0m\u001b[0;34m\u001b[0m\u001b[0;34m\u001b[0m\u001b[0m\n",
      "\u001b[0;32m~/Projects/HTI_ML/WineQuality/venv/lib/python3.9/site-packages/sklearn/model_selection/_search.py\u001b[0m in \u001b[0;36m_run_search\u001b[0;34m(self, evaluate_candidates)\u001b[0m\n\u001b[1;32m   1286\u001b[0m     \u001b[0;32mdef\u001b[0m \u001b[0m_run_search\u001b[0m\u001b[0;34m(\u001b[0m\u001b[0mself\u001b[0m\u001b[0;34m,\u001b[0m \u001b[0mevaluate_candidates\u001b[0m\u001b[0;34m)\u001b[0m\u001b[0;34m:\u001b[0m\u001b[0;34m\u001b[0m\u001b[0;34m\u001b[0m\u001b[0m\n\u001b[1;32m   1287\u001b[0m         \u001b[0;34m\"\"\"Search all candidates in param_grid\"\"\"\u001b[0m\u001b[0;34m\u001b[0m\u001b[0;34m\u001b[0m\u001b[0m\n\u001b[0;32m-> 1288\u001b[0;31m         \u001b[0mevaluate_candidates\u001b[0m\u001b[0;34m(\u001b[0m\u001b[0mParameterGrid\u001b[0m\u001b[0;34m(\u001b[0m\u001b[0mself\u001b[0m\u001b[0;34m.\u001b[0m\u001b[0mparam_grid\u001b[0m\u001b[0;34m)\u001b[0m\u001b[0;34m)\u001b[0m\u001b[0;34m\u001b[0m\u001b[0;34m\u001b[0m\u001b[0m\n\u001b[0m\u001b[1;32m   1289\u001b[0m \u001b[0;34m\u001b[0m\u001b[0m\n\u001b[1;32m   1290\u001b[0m \u001b[0;34m\u001b[0m\u001b[0m\n",
      "\u001b[0;32m~/Projects/HTI_ML/WineQuality/venv/lib/python3.9/site-packages/sklearn/model_selection/_search.py\u001b[0m in \u001b[0;36mevaluate_candidates\u001b[0;34m(candidate_params, cv, more_results)\u001b[0m\n\u001b[1;32m    793\u001b[0m                               n_splits, n_candidates, n_candidates * n_splits))\n\u001b[1;32m    794\u001b[0m \u001b[0;34m\u001b[0m\u001b[0m\n\u001b[0;32m--> 795\u001b[0;31m                 out = parallel(delayed(_fit_and_score)(clone(base_estimator),\n\u001b[0m\u001b[1;32m    796\u001b[0m                                                        \u001b[0mX\u001b[0m\u001b[0;34m,\u001b[0m \u001b[0my\u001b[0m\u001b[0;34m,\u001b[0m\u001b[0;34m\u001b[0m\u001b[0;34m\u001b[0m\u001b[0m\n\u001b[1;32m    797\u001b[0m                                                        \u001b[0mtrain\u001b[0m\u001b[0;34m=\u001b[0m\u001b[0mtrain\u001b[0m\u001b[0;34m,\u001b[0m \u001b[0mtest\u001b[0m\u001b[0;34m=\u001b[0m\u001b[0mtest\u001b[0m\u001b[0;34m,\u001b[0m\u001b[0;34m\u001b[0m\u001b[0;34m\u001b[0m\u001b[0m\n",
      "\u001b[0;32m~/Projects/HTI_ML/WineQuality/venv/lib/python3.9/site-packages/joblib/parallel.py\u001b[0m in \u001b[0;36m__call__\u001b[0;34m(self, iterable)\u001b[0m\n\u001b[1;32m   1042\u001b[0m                 \u001b[0mself\u001b[0m\u001b[0;34m.\u001b[0m\u001b[0m_iterating\u001b[0m \u001b[0;34m=\u001b[0m \u001b[0mself\u001b[0m\u001b[0;34m.\u001b[0m\u001b[0m_original_iterator\u001b[0m \u001b[0;32mis\u001b[0m \u001b[0;32mnot\u001b[0m \u001b[0;32mNone\u001b[0m\u001b[0;34m\u001b[0m\u001b[0;34m\u001b[0m\u001b[0m\n\u001b[1;32m   1043\u001b[0m \u001b[0;34m\u001b[0m\u001b[0m\n\u001b[0;32m-> 1044\u001b[0;31m             \u001b[0;32mwhile\u001b[0m \u001b[0mself\u001b[0m\u001b[0;34m.\u001b[0m\u001b[0mdispatch_one_batch\u001b[0m\u001b[0;34m(\u001b[0m\u001b[0miterator\u001b[0m\u001b[0;34m)\u001b[0m\u001b[0;34m:\u001b[0m\u001b[0;34m\u001b[0m\u001b[0;34m\u001b[0m\u001b[0m\n\u001b[0m\u001b[1;32m   1045\u001b[0m                 \u001b[0;32mpass\u001b[0m\u001b[0;34m\u001b[0m\u001b[0;34m\u001b[0m\u001b[0m\n\u001b[1;32m   1046\u001b[0m \u001b[0;34m\u001b[0m\u001b[0m\n",
      "\u001b[0;32m~/Projects/HTI_ML/WineQuality/venv/lib/python3.9/site-packages/joblib/parallel.py\u001b[0m in \u001b[0;36mdispatch_one_batch\u001b[0;34m(self, iterator)\u001b[0m\n\u001b[1;32m    857\u001b[0m                 \u001b[0;32mreturn\u001b[0m \u001b[0;32mFalse\u001b[0m\u001b[0;34m\u001b[0m\u001b[0;34m\u001b[0m\u001b[0m\n\u001b[1;32m    858\u001b[0m             \u001b[0;32melse\u001b[0m\u001b[0;34m:\u001b[0m\u001b[0;34m\u001b[0m\u001b[0;34m\u001b[0m\u001b[0m\n\u001b[0;32m--> 859\u001b[0;31m                 \u001b[0mself\u001b[0m\u001b[0;34m.\u001b[0m\u001b[0m_dispatch\u001b[0m\u001b[0;34m(\u001b[0m\u001b[0mtasks\u001b[0m\u001b[0;34m)\u001b[0m\u001b[0;34m\u001b[0m\u001b[0;34m\u001b[0m\u001b[0m\n\u001b[0m\u001b[1;32m    860\u001b[0m                 \u001b[0;32mreturn\u001b[0m \u001b[0;32mTrue\u001b[0m\u001b[0;34m\u001b[0m\u001b[0;34m\u001b[0m\u001b[0m\n\u001b[1;32m    861\u001b[0m \u001b[0;34m\u001b[0m\u001b[0m\n",
      "\u001b[0;32m~/Projects/HTI_ML/WineQuality/venv/lib/python3.9/site-packages/joblib/parallel.py\u001b[0m in \u001b[0;36m_dispatch\u001b[0;34m(self, batch)\u001b[0m\n\u001b[1;32m    775\u001b[0m         \u001b[0;32mwith\u001b[0m \u001b[0mself\u001b[0m\u001b[0;34m.\u001b[0m\u001b[0m_lock\u001b[0m\u001b[0;34m:\u001b[0m\u001b[0;34m\u001b[0m\u001b[0;34m\u001b[0m\u001b[0m\n\u001b[1;32m    776\u001b[0m             \u001b[0mjob_idx\u001b[0m \u001b[0;34m=\u001b[0m \u001b[0mlen\u001b[0m\u001b[0;34m(\u001b[0m\u001b[0mself\u001b[0m\u001b[0;34m.\u001b[0m\u001b[0m_jobs\u001b[0m\u001b[0;34m)\u001b[0m\u001b[0;34m\u001b[0m\u001b[0;34m\u001b[0m\u001b[0m\n\u001b[0;32m--> 777\u001b[0;31m             \u001b[0mjob\u001b[0m \u001b[0;34m=\u001b[0m \u001b[0mself\u001b[0m\u001b[0;34m.\u001b[0m\u001b[0m_backend\u001b[0m\u001b[0;34m.\u001b[0m\u001b[0mapply_async\u001b[0m\u001b[0;34m(\u001b[0m\u001b[0mbatch\u001b[0m\u001b[0;34m,\u001b[0m \u001b[0mcallback\u001b[0m\u001b[0;34m=\u001b[0m\u001b[0mcb\u001b[0m\u001b[0;34m)\u001b[0m\u001b[0;34m\u001b[0m\u001b[0;34m\u001b[0m\u001b[0m\n\u001b[0m\u001b[1;32m    778\u001b[0m             \u001b[0;31m# A job can complete so quickly than its callback is\u001b[0m\u001b[0;34m\u001b[0m\u001b[0;34m\u001b[0m\u001b[0;34m\u001b[0m\u001b[0m\n\u001b[1;32m    779\u001b[0m             \u001b[0;31m# called before we get here, causing self._jobs to\u001b[0m\u001b[0;34m\u001b[0m\u001b[0;34m\u001b[0m\u001b[0;34m\u001b[0m\u001b[0m\n",
      "\u001b[0;32m~/Projects/HTI_ML/WineQuality/venv/lib/python3.9/site-packages/joblib/_parallel_backends.py\u001b[0m in \u001b[0;36mapply_async\u001b[0;34m(self, func, callback)\u001b[0m\n\u001b[1;32m    206\u001b[0m     \u001b[0;32mdef\u001b[0m \u001b[0mapply_async\u001b[0m\u001b[0;34m(\u001b[0m\u001b[0mself\u001b[0m\u001b[0;34m,\u001b[0m \u001b[0mfunc\u001b[0m\u001b[0;34m,\u001b[0m \u001b[0mcallback\u001b[0m\u001b[0;34m=\u001b[0m\u001b[0;32mNone\u001b[0m\u001b[0;34m)\u001b[0m\u001b[0;34m:\u001b[0m\u001b[0;34m\u001b[0m\u001b[0;34m\u001b[0m\u001b[0m\n\u001b[1;32m    207\u001b[0m         \u001b[0;34m\"\"\"Schedule a func to be run\"\"\"\u001b[0m\u001b[0;34m\u001b[0m\u001b[0;34m\u001b[0m\u001b[0m\n\u001b[0;32m--> 208\u001b[0;31m         \u001b[0mresult\u001b[0m \u001b[0;34m=\u001b[0m \u001b[0mImmediateResult\u001b[0m\u001b[0;34m(\u001b[0m\u001b[0mfunc\u001b[0m\u001b[0;34m)\u001b[0m\u001b[0;34m\u001b[0m\u001b[0;34m\u001b[0m\u001b[0m\n\u001b[0m\u001b[1;32m    209\u001b[0m         \u001b[0;32mif\u001b[0m \u001b[0mcallback\u001b[0m\u001b[0;34m:\u001b[0m\u001b[0;34m\u001b[0m\u001b[0;34m\u001b[0m\u001b[0m\n\u001b[1;32m    210\u001b[0m             \u001b[0mcallback\u001b[0m\u001b[0;34m(\u001b[0m\u001b[0mresult\u001b[0m\u001b[0;34m)\u001b[0m\u001b[0;34m\u001b[0m\u001b[0;34m\u001b[0m\u001b[0m\n",
      "\u001b[0;32m~/Projects/HTI_ML/WineQuality/venv/lib/python3.9/site-packages/joblib/_parallel_backends.py\u001b[0m in \u001b[0;36m__init__\u001b[0;34m(self, batch)\u001b[0m\n\u001b[1;32m    570\u001b[0m         \u001b[0;31m# Don't delay the application, to avoid keeping the input\u001b[0m\u001b[0;34m\u001b[0m\u001b[0;34m\u001b[0m\u001b[0;34m\u001b[0m\u001b[0m\n\u001b[1;32m    571\u001b[0m         \u001b[0;31m# arguments in memory\u001b[0m\u001b[0;34m\u001b[0m\u001b[0;34m\u001b[0m\u001b[0;34m\u001b[0m\u001b[0m\n\u001b[0;32m--> 572\u001b[0;31m         \u001b[0mself\u001b[0m\u001b[0;34m.\u001b[0m\u001b[0mresults\u001b[0m \u001b[0;34m=\u001b[0m \u001b[0mbatch\u001b[0m\u001b[0;34m(\u001b[0m\u001b[0;34m)\u001b[0m\u001b[0;34m\u001b[0m\u001b[0;34m\u001b[0m\u001b[0m\n\u001b[0m\u001b[1;32m    573\u001b[0m \u001b[0;34m\u001b[0m\u001b[0m\n\u001b[1;32m    574\u001b[0m     \u001b[0;32mdef\u001b[0m \u001b[0mget\u001b[0m\u001b[0;34m(\u001b[0m\u001b[0mself\u001b[0m\u001b[0;34m)\u001b[0m\u001b[0;34m:\u001b[0m\u001b[0;34m\u001b[0m\u001b[0;34m\u001b[0m\u001b[0m\n",
      "\u001b[0;32m~/Projects/HTI_ML/WineQuality/venv/lib/python3.9/site-packages/joblib/parallel.py\u001b[0m in \u001b[0;36m__call__\u001b[0;34m(self)\u001b[0m\n\u001b[1;32m    260\u001b[0m         \u001b[0;31m# change the default number of processes to -1\u001b[0m\u001b[0;34m\u001b[0m\u001b[0;34m\u001b[0m\u001b[0;34m\u001b[0m\u001b[0m\n\u001b[1;32m    261\u001b[0m         \u001b[0;32mwith\u001b[0m \u001b[0mparallel_backend\u001b[0m\u001b[0;34m(\u001b[0m\u001b[0mself\u001b[0m\u001b[0;34m.\u001b[0m\u001b[0m_backend\u001b[0m\u001b[0;34m,\u001b[0m \u001b[0mn_jobs\u001b[0m\u001b[0;34m=\u001b[0m\u001b[0mself\u001b[0m\u001b[0;34m.\u001b[0m\u001b[0m_n_jobs\u001b[0m\u001b[0;34m)\u001b[0m\u001b[0;34m:\u001b[0m\u001b[0;34m\u001b[0m\u001b[0;34m\u001b[0m\u001b[0m\n\u001b[0;32m--> 262\u001b[0;31m             return [func(*args, **kwargs)\n\u001b[0m\u001b[1;32m    263\u001b[0m                     for func, args, kwargs in self.items]\n\u001b[1;32m    264\u001b[0m \u001b[0;34m\u001b[0m\u001b[0m\n",
      "\u001b[0;32m~/Projects/HTI_ML/WineQuality/venv/lib/python3.9/site-packages/joblib/parallel.py\u001b[0m in \u001b[0;36m<listcomp>\u001b[0;34m(.0)\u001b[0m\n\u001b[1;32m    260\u001b[0m         \u001b[0;31m# change the default number of processes to -1\u001b[0m\u001b[0;34m\u001b[0m\u001b[0;34m\u001b[0m\u001b[0;34m\u001b[0m\u001b[0m\n\u001b[1;32m    261\u001b[0m         \u001b[0;32mwith\u001b[0m \u001b[0mparallel_backend\u001b[0m\u001b[0;34m(\u001b[0m\u001b[0mself\u001b[0m\u001b[0;34m.\u001b[0m\u001b[0m_backend\u001b[0m\u001b[0;34m,\u001b[0m \u001b[0mn_jobs\u001b[0m\u001b[0;34m=\u001b[0m\u001b[0mself\u001b[0m\u001b[0;34m.\u001b[0m\u001b[0m_n_jobs\u001b[0m\u001b[0;34m)\u001b[0m\u001b[0;34m:\u001b[0m\u001b[0;34m\u001b[0m\u001b[0;34m\u001b[0m\u001b[0m\n\u001b[0;32m--> 262\u001b[0;31m             return [func(*args, **kwargs)\n\u001b[0m\u001b[1;32m    263\u001b[0m                     for func, args, kwargs in self.items]\n\u001b[1;32m    264\u001b[0m \u001b[0;34m\u001b[0m\u001b[0m\n",
      "\u001b[0;32m~/Projects/HTI_ML/WineQuality/venv/lib/python3.9/site-packages/sklearn/utils/fixes.py\u001b[0m in \u001b[0;36m__call__\u001b[0;34m(self, *args, **kwargs)\u001b[0m\n\u001b[1;32m    220\u001b[0m     \u001b[0;32mdef\u001b[0m \u001b[0m__call__\u001b[0m\u001b[0;34m(\u001b[0m\u001b[0mself\u001b[0m\u001b[0;34m,\u001b[0m \u001b[0;34m*\u001b[0m\u001b[0margs\u001b[0m\u001b[0;34m,\u001b[0m \u001b[0;34m**\u001b[0m\u001b[0mkwargs\u001b[0m\u001b[0;34m)\u001b[0m\u001b[0;34m:\u001b[0m\u001b[0;34m\u001b[0m\u001b[0;34m\u001b[0m\u001b[0m\n\u001b[1;32m    221\u001b[0m         \u001b[0;32mwith\u001b[0m \u001b[0mconfig_context\u001b[0m\u001b[0;34m(\u001b[0m\u001b[0;34m**\u001b[0m\u001b[0mself\u001b[0m\u001b[0;34m.\u001b[0m\u001b[0mconfig\u001b[0m\u001b[0;34m)\u001b[0m\u001b[0;34m:\u001b[0m\u001b[0;34m\u001b[0m\u001b[0;34m\u001b[0m\u001b[0m\n\u001b[0;32m--> 222\u001b[0;31m             \u001b[0;32mreturn\u001b[0m \u001b[0mself\u001b[0m\u001b[0;34m.\u001b[0m\u001b[0mfunction\u001b[0m\u001b[0;34m(\u001b[0m\u001b[0;34m*\u001b[0m\u001b[0margs\u001b[0m\u001b[0;34m,\u001b[0m \u001b[0;34m**\u001b[0m\u001b[0mkwargs\u001b[0m\u001b[0;34m)\u001b[0m\u001b[0;34m\u001b[0m\u001b[0;34m\u001b[0m\u001b[0m\n\u001b[0m",
      "\u001b[0;32m~/Projects/HTI_ML/WineQuality/venv/lib/python3.9/site-packages/sklearn/model_selection/_validation.py\u001b[0m in \u001b[0;36m_fit_and_score\u001b[0;34m(estimator, X, y, scorer, train, test, verbose, parameters, fit_params, return_train_score, return_parameters, return_n_test_samples, return_times, return_estimator, split_progress, candidate_progress, error_score)\u001b[0m\n\u001b[1;32m    591\u001b[0m             \u001b[0mestimator\u001b[0m\u001b[0;34m.\u001b[0m\u001b[0mfit\u001b[0m\u001b[0;34m(\u001b[0m\u001b[0mX_train\u001b[0m\u001b[0;34m,\u001b[0m \u001b[0;34m**\u001b[0m\u001b[0mfit_params\u001b[0m\u001b[0;34m)\u001b[0m\u001b[0;34m\u001b[0m\u001b[0;34m\u001b[0m\u001b[0m\n\u001b[1;32m    592\u001b[0m         \u001b[0;32melse\u001b[0m\u001b[0;34m:\u001b[0m\u001b[0;34m\u001b[0m\u001b[0;34m\u001b[0m\u001b[0m\n\u001b[0;32m--> 593\u001b[0;31m             \u001b[0mestimator\u001b[0m\u001b[0;34m.\u001b[0m\u001b[0mfit\u001b[0m\u001b[0;34m(\u001b[0m\u001b[0mX_train\u001b[0m\u001b[0;34m,\u001b[0m \u001b[0my_train\u001b[0m\u001b[0;34m,\u001b[0m \u001b[0;34m**\u001b[0m\u001b[0mfit_params\u001b[0m\u001b[0;34m)\u001b[0m\u001b[0;34m\u001b[0m\u001b[0;34m\u001b[0m\u001b[0m\n\u001b[0m\u001b[1;32m    594\u001b[0m \u001b[0;34m\u001b[0m\u001b[0m\n\u001b[1;32m    595\u001b[0m     \u001b[0;32mexcept\u001b[0m \u001b[0mException\u001b[0m \u001b[0;32mas\u001b[0m \u001b[0me\u001b[0m\u001b[0;34m:\u001b[0m\u001b[0;34m\u001b[0m\u001b[0;34m\u001b[0m\u001b[0m\n",
      "\u001b[0;32m~/Projects/HTI_ML/WineQuality/venv/lib/python3.9/site-packages/sklearn/ensemble/_forest.py\u001b[0m in \u001b[0;36mfit\u001b[0;34m(self, X, y, sample_weight)\u001b[0m\n\u001b[1;32m    385\u001b[0m             \u001b[0;31m# parallel_backend contexts set at a higher level,\u001b[0m\u001b[0;34m\u001b[0m\u001b[0;34m\u001b[0m\u001b[0;34m\u001b[0m\u001b[0m\n\u001b[1;32m    386\u001b[0m             \u001b[0;31m# since correctness does not rely on using threads.\u001b[0m\u001b[0;34m\u001b[0m\u001b[0;34m\u001b[0m\u001b[0;34m\u001b[0m\u001b[0m\n\u001b[0;32m--> 387\u001b[0;31m             trees = Parallel(n_jobs=self.n_jobs, verbose=self.verbose,\n\u001b[0m\u001b[1;32m    388\u001b[0m                              \u001b[0;34m**\u001b[0m\u001b[0m_joblib_parallel_args\u001b[0m\u001b[0;34m(\u001b[0m\u001b[0mprefer\u001b[0m\u001b[0;34m=\u001b[0m\u001b[0;34m'threads'\u001b[0m\u001b[0;34m)\u001b[0m\u001b[0;34m)\u001b[0m\u001b[0;34m(\u001b[0m\u001b[0;34m\u001b[0m\u001b[0;34m\u001b[0m\u001b[0m\n\u001b[1;32m    389\u001b[0m                 delayed(_parallel_build_trees)(\n",
      "\u001b[0;32m~/Projects/HTI_ML/WineQuality/venv/lib/python3.9/site-packages/joblib/parallel.py\u001b[0m in \u001b[0;36m__call__\u001b[0;34m(self, iterable)\u001b[0m\n\u001b[1;32m   1042\u001b[0m                 \u001b[0mself\u001b[0m\u001b[0;34m.\u001b[0m\u001b[0m_iterating\u001b[0m \u001b[0;34m=\u001b[0m \u001b[0mself\u001b[0m\u001b[0;34m.\u001b[0m\u001b[0m_original_iterator\u001b[0m \u001b[0;32mis\u001b[0m \u001b[0;32mnot\u001b[0m \u001b[0;32mNone\u001b[0m\u001b[0;34m\u001b[0m\u001b[0;34m\u001b[0m\u001b[0m\n\u001b[1;32m   1043\u001b[0m \u001b[0;34m\u001b[0m\u001b[0m\n\u001b[0;32m-> 1044\u001b[0;31m             \u001b[0;32mwhile\u001b[0m \u001b[0mself\u001b[0m\u001b[0;34m.\u001b[0m\u001b[0mdispatch_one_batch\u001b[0m\u001b[0;34m(\u001b[0m\u001b[0miterator\u001b[0m\u001b[0;34m)\u001b[0m\u001b[0;34m:\u001b[0m\u001b[0;34m\u001b[0m\u001b[0;34m\u001b[0m\u001b[0m\n\u001b[0m\u001b[1;32m   1045\u001b[0m                 \u001b[0;32mpass\u001b[0m\u001b[0;34m\u001b[0m\u001b[0;34m\u001b[0m\u001b[0m\n\u001b[1;32m   1046\u001b[0m \u001b[0;34m\u001b[0m\u001b[0m\n",
      "\u001b[0;32m~/Projects/HTI_ML/WineQuality/venv/lib/python3.9/site-packages/joblib/parallel.py\u001b[0m in \u001b[0;36mdispatch_one_batch\u001b[0;34m(self, iterator)\u001b[0m\n\u001b[1;32m    857\u001b[0m                 \u001b[0;32mreturn\u001b[0m \u001b[0;32mFalse\u001b[0m\u001b[0;34m\u001b[0m\u001b[0;34m\u001b[0m\u001b[0m\n\u001b[1;32m    858\u001b[0m             \u001b[0;32melse\u001b[0m\u001b[0;34m:\u001b[0m\u001b[0;34m\u001b[0m\u001b[0;34m\u001b[0m\u001b[0m\n\u001b[0;32m--> 859\u001b[0;31m                 \u001b[0mself\u001b[0m\u001b[0;34m.\u001b[0m\u001b[0m_dispatch\u001b[0m\u001b[0;34m(\u001b[0m\u001b[0mtasks\u001b[0m\u001b[0;34m)\u001b[0m\u001b[0;34m\u001b[0m\u001b[0;34m\u001b[0m\u001b[0m\n\u001b[0m\u001b[1;32m    860\u001b[0m                 \u001b[0;32mreturn\u001b[0m \u001b[0;32mTrue\u001b[0m\u001b[0;34m\u001b[0m\u001b[0;34m\u001b[0m\u001b[0m\n\u001b[1;32m    861\u001b[0m \u001b[0;34m\u001b[0m\u001b[0m\n",
      "\u001b[0;32m~/Projects/HTI_ML/WineQuality/venv/lib/python3.9/site-packages/joblib/parallel.py\u001b[0m in \u001b[0;36m_dispatch\u001b[0;34m(self, batch)\u001b[0m\n\u001b[1;32m    775\u001b[0m         \u001b[0;32mwith\u001b[0m \u001b[0mself\u001b[0m\u001b[0;34m.\u001b[0m\u001b[0m_lock\u001b[0m\u001b[0;34m:\u001b[0m\u001b[0;34m\u001b[0m\u001b[0;34m\u001b[0m\u001b[0m\n\u001b[1;32m    776\u001b[0m             \u001b[0mjob_idx\u001b[0m \u001b[0;34m=\u001b[0m \u001b[0mlen\u001b[0m\u001b[0;34m(\u001b[0m\u001b[0mself\u001b[0m\u001b[0;34m.\u001b[0m\u001b[0m_jobs\u001b[0m\u001b[0;34m)\u001b[0m\u001b[0;34m\u001b[0m\u001b[0;34m\u001b[0m\u001b[0m\n\u001b[0;32m--> 777\u001b[0;31m             \u001b[0mjob\u001b[0m \u001b[0;34m=\u001b[0m \u001b[0mself\u001b[0m\u001b[0;34m.\u001b[0m\u001b[0m_backend\u001b[0m\u001b[0;34m.\u001b[0m\u001b[0mapply_async\u001b[0m\u001b[0;34m(\u001b[0m\u001b[0mbatch\u001b[0m\u001b[0;34m,\u001b[0m \u001b[0mcallback\u001b[0m\u001b[0;34m=\u001b[0m\u001b[0mcb\u001b[0m\u001b[0;34m)\u001b[0m\u001b[0;34m\u001b[0m\u001b[0;34m\u001b[0m\u001b[0m\n\u001b[0m\u001b[1;32m    778\u001b[0m             \u001b[0;31m# A job can complete so quickly than its callback is\u001b[0m\u001b[0;34m\u001b[0m\u001b[0;34m\u001b[0m\u001b[0;34m\u001b[0m\u001b[0m\n\u001b[1;32m    779\u001b[0m             \u001b[0;31m# called before we get here, causing self._jobs to\u001b[0m\u001b[0;34m\u001b[0m\u001b[0;34m\u001b[0m\u001b[0;34m\u001b[0m\u001b[0m\n",
      "\u001b[0;32m~/Projects/HTI_ML/WineQuality/venv/lib/python3.9/site-packages/joblib/_parallel_backends.py\u001b[0m in \u001b[0;36mapply_async\u001b[0;34m(self, func, callback)\u001b[0m\n\u001b[1;32m    206\u001b[0m     \u001b[0;32mdef\u001b[0m \u001b[0mapply_async\u001b[0m\u001b[0;34m(\u001b[0m\u001b[0mself\u001b[0m\u001b[0;34m,\u001b[0m \u001b[0mfunc\u001b[0m\u001b[0;34m,\u001b[0m \u001b[0mcallback\u001b[0m\u001b[0;34m=\u001b[0m\u001b[0;32mNone\u001b[0m\u001b[0;34m)\u001b[0m\u001b[0;34m:\u001b[0m\u001b[0;34m\u001b[0m\u001b[0;34m\u001b[0m\u001b[0m\n\u001b[1;32m    207\u001b[0m         \u001b[0;34m\"\"\"Schedule a func to be run\"\"\"\u001b[0m\u001b[0;34m\u001b[0m\u001b[0;34m\u001b[0m\u001b[0m\n\u001b[0;32m--> 208\u001b[0;31m         \u001b[0mresult\u001b[0m \u001b[0;34m=\u001b[0m \u001b[0mImmediateResult\u001b[0m\u001b[0;34m(\u001b[0m\u001b[0mfunc\u001b[0m\u001b[0;34m)\u001b[0m\u001b[0;34m\u001b[0m\u001b[0;34m\u001b[0m\u001b[0m\n\u001b[0m\u001b[1;32m    209\u001b[0m         \u001b[0;32mif\u001b[0m \u001b[0mcallback\u001b[0m\u001b[0;34m:\u001b[0m\u001b[0;34m\u001b[0m\u001b[0;34m\u001b[0m\u001b[0m\n\u001b[1;32m    210\u001b[0m             \u001b[0mcallback\u001b[0m\u001b[0;34m(\u001b[0m\u001b[0mresult\u001b[0m\u001b[0;34m)\u001b[0m\u001b[0;34m\u001b[0m\u001b[0;34m\u001b[0m\u001b[0m\n",
      "\u001b[0;32m~/Projects/HTI_ML/WineQuality/venv/lib/python3.9/site-packages/joblib/_parallel_backends.py\u001b[0m in \u001b[0;36m__init__\u001b[0;34m(self, batch)\u001b[0m\n\u001b[1;32m    570\u001b[0m         \u001b[0;31m# Don't delay the application, to avoid keeping the input\u001b[0m\u001b[0;34m\u001b[0m\u001b[0;34m\u001b[0m\u001b[0;34m\u001b[0m\u001b[0m\n\u001b[1;32m    571\u001b[0m         \u001b[0;31m# arguments in memory\u001b[0m\u001b[0;34m\u001b[0m\u001b[0;34m\u001b[0m\u001b[0;34m\u001b[0m\u001b[0m\n\u001b[0;32m--> 572\u001b[0;31m         \u001b[0mself\u001b[0m\u001b[0;34m.\u001b[0m\u001b[0mresults\u001b[0m \u001b[0;34m=\u001b[0m \u001b[0mbatch\u001b[0m\u001b[0;34m(\u001b[0m\u001b[0;34m)\u001b[0m\u001b[0;34m\u001b[0m\u001b[0;34m\u001b[0m\u001b[0m\n\u001b[0m\u001b[1;32m    573\u001b[0m \u001b[0;34m\u001b[0m\u001b[0m\n\u001b[1;32m    574\u001b[0m     \u001b[0;32mdef\u001b[0m \u001b[0mget\u001b[0m\u001b[0;34m(\u001b[0m\u001b[0mself\u001b[0m\u001b[0;34m)\u001b[0m\u001b[0;34m:\u001b[0m\u001b[0;34m\u001b[0m\u001b[0;34m\u001b[0m\u001b[0m\n",
      "\u001b[0;32m~/Projects/HTI_ML/WineQuality/venv/lib/python3.9/site-packages/joblib/parallel.py\u001b[0m in \u001b[0;36m__call__\u001b[0;34m(self)\u001b[0m\n\u001b[1;32m    260\u001b[0m         \u001b[0;31m# change the default number of processes to -1\u001b[0m\u001b[0;34m\u001b[0m\u001b[0;34m\u001b[0m\u001b[0;34m\u001b[0m\u001b[0m\n\u001b[1;32m    261\u001b[0m         \u001b[0;32mwith\u001b[0m \u001b[0mparallel_backend\u001b[0m\u001b[0;34m(\u001b[0m\u001b[0mself\u001b[0m\u001b[0;34m.\u001b[0m\u001b[0m_backend\u001b[0m\u001b[0;34m,\u001b[0m \u001b[0mn_jobs\u001b[0m\u001b[0;34m=\u001b[0m\u001b[0mself\u001b[0m\u001b[0;34m.\u001b[0m\u001b[0m_n_jobs\u001b[0m\u001b[0;34m)\u001b[0m\u001b[0;34m:\u001b[0m\u001b[0;34m\u001b[0m\u001b[0;34m\u001b[0m\u001b[0m\n\u001b[0;32m--> 262\u001b[0;31m             return [func(*args, **kwargs)\n\u001b[0m\u001b[1;32m    263\u001b[0m                     for func, args, kwargs in self.items]\n\u001b[1;32m    264\u001b[0m \u001b[0;34m\u001b[0m\u001b[0m\n",
      "\u001b[0;32m~/Projects/HTI_ML/WineQuality/venv/lib/python3.9/site-packages/joblib/parallel.py\u001b[0m in \u001b[0;36m<listcomp>\u001b[0;34m(.0)\u001b[0m\n\u001b[1;32m    260\u001b[0m         \u001b[0;31m# change the default number of processes to -1\u001b[0m\u001b[0;34m\u001b[0m\u001b[0;34m\u001b[0m\u001b[0;34m\u001b[0m\u001b[0m\n\u001b[1;32m    261\u001b[0m         \u001b[0;32mwith\u001b[0m \u001b[0mparallel_backend\u001b[0m\u001b[0;34m(\u001b[0m\u001b[0mself\u001b[0m\u001b[0;34m.\u001b[0m\u001b[0m_backend\u001b[0m\u001b[0;34m,\u001b[0m \u001b[0mn_jobs\u001b[0m\u001b[0;34m=\u001b[0m\u001b[0mself\u001b[0m\u001b[0;34m.\u001b[0m\u001b[0m_n_jobs\u001b[0m\u001b[0;34m)\u001b[0m\u001b[0;34m:\u001b[0m\u001b[0;34m\u001b[0m\u001b[0;34m\u001b[0m\u001b[0m\n\u001b[0;32m--> 262\u001b[0;31m             return [func(*args, **kwargs)\n\u001b[0m\u001b[1;32m    263\u001b[0m                     for func, args, kwargs in self.items]\n\u001b[1;32m    264\u001b[0m \u001b[0;34m\u001b[0m\u001b[0m\n",
      "\u001b[0;32m~/Projects/HTI_ML/WineQuality/venv/lib/python3.9/site-packages/sklearn/utils/fixes.py\u001b[0m in \u001b[0;36m__call__\u001b[0;34m(self, *args, **kwargs)\u001b[0m\n\u001b[1;32m    220\u001b[0m     \u001b[0;32mdef\u001b[0m \u001b[0m__call__\u001b[0m\u001b[0;34m(\u001b[0m\u001b[0mself\u001b[0m\u001b[0;34m,\u001b[0m \u001b[0;34m*\u001b[0m\u001b[0margs\u001b[0m\u001b[0;34m,\u001b[0m \u001b[0;34m**\u001b[0m\u001b[0mkwargs\u001b[0m\u001b[0;34m)\u001b[0m\u001b[0;34m:\u001b[0m\u001b[0;34m\u001b[0m\u001b[0;34m\u001b[0m\u001b[0m\n\u001b[1;32m    221\u001b[0m         \u001b[0;32mwith\u001b[0m \u001b[0mconfig_context\u001b[0m\u001b[0;34m(\u001b[0m\u001b[0;34m**\u001b[0m\u001b[0mself\u001b[0m\u001b[0;34m.\u001b[0m\u001b[0mconfig\u001b[0m\u001b[0;34m)\u001b[0m\u001b[0;34m:\u001b[0m\u001b[0;34m\u001b[0m\u001b[0;34m\u001b[0m\u001b[0m\n\u001b[0;32m--> 222\u001b[0;31m             \u001b[0;32mreturn\u001b[0m \u001b[0mself\u001b[0m\u001b[0;34m.\u001b[0m\u001b[0mfunction\u001b[0m\u001b[0;34m(\u001b[0m\u001b[0;34m*\u001b[0m\u001b[0margs\u001b[0m\u001b[0;34m,\u001b[0m \u001b[0;34m**\u001b[0m\u001b[0mkwargs\u001b[0m\u001b[0;34m)\u001b[0m\u001b[0;34m\u001b[0m\u001b[0;34m\u001b[0m\u001b[0m\n\u001b[0m",
      "\u001b[0;32m~/Projects/HTI_ML/WineQuality/venv/lib/python3.9/site-packages/sklearn/ensemble/_forest.py\u001b[0m in \u001b[0;36m_parallel_build_trees\u001b[0;34m(tree, forest, X, y, sample_weight, tree_idx, n_trees, verbose, class_weight, n_samples_bootstrap)\u001b[0m\n\u001b[1;32m    169\u001b[0m         \u001b[0mtree\u001b[0m\u001b[0;34m.\u001b[0m\u001b[0mfit\u001b[0m\u001b[0;34m(\u001b[0m\u001b[0mX\u001b[0m\u001b[0;34m,\u001b[0m \u001b[0my\u001b[0m\u001b[0;34m,\u001b[0m \u001b[0msample_weight\u001b[0m\u001b[0;34m=\u001b[0m\u001b[0mcurr_sample_weight\u001b[0m\u001b[0;34m,\u001b[0m \u001b[0mcheck_input\u001b[0m\u001b[0;34m=\u001b[0m\u001b[0;32mFalse\u001b[0m\u001b[0;34m)\u001b[0m\u001b[0;34m\u001b[0m\u001b[0;34m\u001b[0m\u001b[0m\n\u001b[1;32m    170\u001b[0m     \u001b[0;32melse\u001b[0m\u001b[0;34m:\u001b[0m\u001b[0;34m\u001b[0m\u001b[0;34m\u001b[0m\u001b[0m\n\u001b[0;32m--> 171\u001b[0;31m         \u001b[0mtree\u001b[0m\u001b[0;34m.\u001b[0m\u001b[0mfit\u001b[0m\u001b[0;34m(\u001b[0m\u001b[0mX\u001b[0m\u001b[0;34m,\u001b[0m \u001b[0my\u001b[0m\u001b[0;34m,\u001b[0m \u001b[0msample_weight\u001b[0m\u001b[0;34m=\u001b[0m\u001b[0msample_weight\u001b[0m\u001b[0;34m,\u001b[0m \u001b[0mcheck_input\u001b[0m\u001b[0;34m=\u001b[0m\u001b[0;32mFalse\u001b[0m\u001b[0;34m)\u001b[0m\u001b[0;34m\u001b[0m\u001b[0;34m\u001b[0m\u001b[0m\n\u001b[0m\u001b[1;32m    172\u001b[0m \u001b[0;34m\u001b[0m\u001b[0m\n\u001b[1;32m    173\u001b[0m     \u001b[0;32mreturn\u001b[0m \u001b[0mtree\u001b[0m\u001b[0;34m\u001b[0m\u001b[0;34m\u001b[0m\u001b[0m\n",
      "\u001b[0;32m~/Projects/HTI_ML/WineQuality/venv/lib/python3.9/site-packages/sklearn/tree/_classes.py\u001b[0m in \u001b[0;36mfit\u001b[0;34m(self, X, y, sample_weight, check_input, X_idx_sorted)\u001b[0m\n\u001b[1;32m    896\u001b[0m         \"\"\"\n\u001b[1;32m    897\u001b[0m \u001b[0;34m\u001b[0m\u001b[0m\n\u001b[0;32m--> 898\u001b[0;31m         super().fit(\n\u001b[0m\u001b[1;32m    899\u001b[0m             \u001b[0mX\u001b[0m\u001b[0;34m,\u001b[0m \u001b[0my\u001b[0m\u001b[0;34m,\u001b[0m\u001b[0;34m\u001b[0m\u001b[0;34m\u001b[0m\u001b[0m\n\u001b[1;32m    900\u001b[0m             \u001b[0msample_weight\u001b[0m\u001b[0;34m=\u001b[0m\u001b[0msample_weight\u001b[0m\u001b[0;34m,\u001b[0m\u001b[0;34m\u001b[0m\u001b[0;34m\u001b[0m\u001b[0m\n",
      "\u001b[0;32m~/Projects/HTI_ML/WineQuality/venv/lib/python3.9/site-packages/sklearn/tree/_classes.py\u001b[0m in \u001b[0;36mfit\u001b[0;34m(self, X, y, sample_weight, check_input, X_idx_sorted)\u001b[0m\n\u001b[1;32m    387\u001b[0m                                            min_impurity_split)\n\u001b[1;32m    388\u001b[0m \u001b[0;34m\u001b[0m\u001b[0m\n\u001b[0;32m--> 389\u001b[0;31m         \u001b[0mbuilder\u001b[0m\u001b[0;34m.\u001b[0m\u001b[0mbuild\u001b[0m\u001b[0;34m(\u001b[0m\u001b[0mself\u001b[0m\u001b[0;34m.\u001b[0m\u001b[0mtree_\u001b[0m\u001b[0;34m,\u001b[0m \u001b[0mX\u001b[0m\u001b[0;34m,\u001b[0m \u001b[0my\u001b[0m\u001b[0;34m,\u001b[0m \u001b[0msample_weight\u001b[0m\u001b[0;34m)\u001b[0m\u001b[0;34m\u001b[0m\u001b[0;34m\u001b[0m\u001b[0m\n\u001b[0m\u001b[1;32m    390\u001b[0m \u001b[0;34m\u001b[0m\u001b[0m\n\u001b[1;32m    391\u001b[0m         \u001b[0;32mif\u001b[0m \u001b[0mself\u001b[0m\u001b[0;34m.\u001b[0m\u001b[0mn_outputs_\u001b[0m \u001b[0;34m==\u001b[0m \u001b[0;36m1\u001b[0m \u001b[0;32mand\u001b[0m \u001b[0mis_classifier\u001b[0m\u001b[0;34m(\u001b[0m\u001b[0mself\u001b[0m\u001b[0;34m)\u001b[0m\u001b[0;34m:\u001b[0m\u001b[0;34m\u001b[0m\u001b[0;34m\u001b[0m\u001b[0m\n",
      "\u001b[0;31mKeyboardInterrupt\u001b[0m: "
     ]
    }
   ],
   "source": [
    "grid_params = {\n",
    "    'n_estimators': [550, 600, 650],\n",
    "    'min_samples_split': [3, 4, 5, 6],\n",
    "    'min_samples_leaf': [1],\n",
    "    'max_features': [\"auto\", \"sqrt\", \"log2\"],\n",
    "    'max_depth': [None],\n",
    "    'criterion': ['gini', 'entropy'],\n",
    "    'bootstrap': [False]\n",
    "}\n",
    "res = gridSearch(rf, x_train, y_train, grid_params)\n",
    "res"
   ]
  },
  {
   "cell_type": "code",
   "execution_count": 37,
   "id": "floating-premises",
   "metadata": {},
   "outputs": [
    {
     "name": "stdout",
     "output_type": "stream",
     "text": [
      "Accuracy: 89.82624024175271\n",
      "CV Score: 83.7447362394996\n",
      "              precision    recall  f1-score   support\n",
      "\n",
      "           3       1.00      0.99      1.00       580\n",
      "           4       0.98      0.92      0.95       604\n",
      "           5       0.78      0.82      0.79       541\n",
      "           6       0.67      0.76      0.71       504\n",
      "           7       0.89      0.82      0.85       610\n",
      "           8       0.98      0.97      0.97       606\n",
      "           9       1.00      1.00      1.00       526\n",
      "\n",
      "    accuracy                           0.90      3971\n",
      "   macro avg       0.90      0.90      0.90      3971\n",
      "weighted avg       0.90      0.90      0.90      3971\n",
      "\n"
     ]
    },
    {
     "data": {
      "text/plain": [
       "(89.82624024175271, 83.7447362394996)"
      ]
     },
     "execution_count": 37,
     "metadata": {},
     "output_type": "execute_result"
    }
   ],
   "source": [
    "et_rand = ExtraTreesClassifier(random_state=42, **res,)\n",
    "classify(et_rand, X, y)"
   ]
  },
  {
   "cell_type": "code",
   "execution_count": null,
   "id": "effective-history",
   "metadata": {},
   "outputs": [],
   "source": []
  }
 ],
 "metadata": {
  "kernelspec": {
   "display_name": "Python 3.9.2  ('venv': venv)",
   "language": "python",
   "name": "pythonjvsc74a57bd0bce0aae7ec9eb2d3f1b2e52dc0378a190dab00a15ebb2ce7cd706c6466d401a0"
  },
  "language_info": {
   "codemirror_mode": {
    "name": "ipython",
    "version": 3
   },
   "file_extension": ".py",
   "mimetype": "text/x-python",
   "name": "python",
   "nbconvert_exporter": "python",
   "pygments_lexer": "ipython3",
   "version": "3.9.2"
  }
 },
 "nbformat": 4,
 "nbformat_minor": 5
}
